{
 "cells": [
  {
   "cell_type": "code",
   "execution_count": 1,
   "metadata": {},
   "outputs": [],
   "source": [
    "import glob \n",
    "import os\n",
    "\n",
    "\n",
    "lst = glob.glob(\"./*.json\")+glob.glob(\"./*.txt\")+glob.glob(\"./*.xml\")"
   ]
  },
  {
   "cell_type": "code",
   "execution_count": 2,
   "metadata": {},
   "outputs": [],
   "source": [
    "img_lst=[]\n",
    "for i in glob.glob(\"./*\"):\n",
    "    if i not in lst:\n",
    "        img_lst.append(i)"
   ]
  },
  {
   "cell_type": "code",
   "execution_count": 3,
   "metadata": {},
   "outputs": [
    {
     "name": "stdout",
     "output_type": "stream",
     "text": [
      "['./Pacific-Rose-apples-on-display-in-local-Washington-fruit-section_aug1.jpg', './apples-750x500_aug1.jpeg', './11_aug1.jpg', './The-Best-Place-to-Go-Apple-Picking-in-Every-State-9-760x506_aug1.jpg', './galaHarvest2018-13670tj_aug1.jpg', './2_20309_e_aug1.jpg', './fruit-shops-in-the-market-with-all-kinds-like-tangerines-pomegranate-orange-apple-pear-grape-mango-dragon-fruit-lychee-PX66TX.jpg', './indian-man-selling-apples-from-a-truck-at-an-indian-market-andhra-BT98J3_aug1.jpg', './galaHarvest2018-13670tj.jpg', './58cac8091d00001d107cecb1_aug1.jpeg', './SugarBee-620x816.jpg', './in-apples.jpg', './fruit-shops-in-the-market-with-all-kinds-like-tangerines-pomegranate-orange-apple-pear-grape-mango-dragon-fruit-lychee-PX66TX_aug1.jpg', './2_22673_e.jpg', './56a23120c08a80431d8b8fc5-750-563.jpg', './apples-750x500.jpeg', './istockphoto-692542820-640x640_aug1.jpg', './2_1202431_e.jpg', './SugarBee-620x816_aug1.jpg', './apples.png', './Whole-Foods-780x520_aug1.jpg', './applesdianamillerGettyImages-145068104-577e87013df78cb62c96e3a0_aug1.jpg', './fruit-apples-trademark-variety_aug1.jpg', './retailhome_aug1.jpg', './PixabayFujiApples.JPG', './prep_img.ipynb', './apples-in-a-grocery-store.JPG', './fruit-apples-trademark-variety.jpg', './2_20309_e.jpg', './adhqylrqnn-1465121618.png', './Apples.jpg', './index2.jpeg', './23924687127_4fdd508dd5_b_aug1.jpg', './23924687127_4fdd508dd5_b.jpg', './depositphotos_221056768-stock-photo-fruit-shops-market-all-kinds_aug1.jpg', './2_22673_e_aug1.jpg', './1024px-Rome_Apples_Newark_Delaware_Farmers_Market1_aug1.jpg', './grocery-store-apples-500x375.jpg', './apples-for-sale-at-grocery-store-panoramic-images-canvas-print.jpg', './farm-market-750x450.jpg', './2_1202431_e_aug1.jpg', './depositphotos_221056758-stock-photo-fruit-shops-market-all-kinds_aug1.jpg', './retailhome.jpg', './apples-in-a-grocery-store_aug1.JPG', \"./Rome_Apples,_Newark_Delaware_Farmer's_Market_aug1.jpg\", './istockphoto-692542820-640x640.jpg', './619-08599332en_Masterfile_aug1.jpg', './clean-apples.jpg', './adani_aug1.jpg', './adani.jpg', './apples_art_image_aug1.jpg', './index3.jpg', './farm-market-750x450_aug1.jpg', './HH - apples.JPG', './Apples-in-cold-storage-DSC_9302-web.jpg', './PixabayFujiApples_aug1.JPG', './Whole-Foods-780x520.jpg', './shop2_aug1.jpg', './The-Best-Place-to-Go-Apple-Picking-in-Every-State-9-760x506.jpg', './Prep_txt.ipynb', './Pacific-Rose-apples-on-display-in-local-Washington-fruit-section.jpg', './apples-for-sale-at-grocery-store-panoramic-images-canvas-print_aug1.jpg', './Apples-in-cold-storage-DSC_9302-web_aug1.jpg', './depositphotos_221056768-stock-photo-fruit-shops-market-all-kinds.jpg', './sembikiya-fuji-apples_aug1.jpg', './videoblocks-organic-fruit-selection-of-apples-and-oranges-at-grocery-store_bvewwjzggb_thumbnail-full01_aug1.png', './adhqylrqnn-1465121618_aug1.png', './2_1206067_e.jpg', './index2_aug1.jpeg', './indian-man-selling-apples-from-a-truck-at-an-indian-market-andhra-BT98J3.jpg', './56a23120c08a80431d8b8fc5-750-563_aug1.jpg', './11.jpg', './Local_Produce_aug1.jpg', \"./Rome_Apples,_Newark_Delaware_Farmer's_Market.jpg\", './1024px-Rome_Apples_Newark_Delaware_Farmers_Market1.jpg', './crunchABunchBakersDelight-1.jpg', './apples_aug1.jpg', './heb-market-apple-display.jpg', './yuvraj-traders-goregaon-west-mumbai-general-stores-44dftbf.jpg', './adelaide-hills-apples.jpg', './apples.jpg', './yuvraj-traders-goregaon-west-mumbai-general-stores-44dftbf_aug1.jpg', './applesdianamillerGettyImages-145068104-577e87013df78cb62c96e3a0.jpg', './index_aug1.jpeg', './58cac8091d00001d107cecb1.jpeg', './depositphotos_221056758-stock-photo-fruit-shops-market-all-kinds.jpg', './apples_art_image.jpg', './5-1.jpg', './2_1210522_e_aug1.jpg', './619-08599332en_Masterfile.jpg', './2_1206067_e_aug1.jpg', './grocery-store-apples-500x375_aug1.jpg', './videoblocks-organic-fruit-selection-of-apples-and-oranges-at-grocery-store_bvewwjzggb_thumbnail-full01.png', './images_aug1.jpeg', './Local_Produce.jpg', './adelaide-hills-apples_aug1.jpg', './index3_aug1.jpg', './HH - apples_aug1.JPG', './Apples_aug1.jpg', './shop2.jpg', './crunchABunchBakersDelight-1_aug1.jpg', './heb-market-apple-display_aug1.jpg', './5-1_aug1.jpg', './in-apples_aug1.jpg', './images.jpeg', './index.jpeg', './2_1210522_e.jpg', './sembikiya-fuji-apples.jpg']\n"
     ]
    }
   ],
   "source": [
    "print(img_lst)"
   ]
  },
  {
   "cell_type": "code",
   "execution_count": 4,
   "metadata": {},
   "outputs": [],
   "source": [
    "from shutil import copy\n",
    "for i in img_lst:\n",
    "    copy(i,\"./\")"
   ]
  },
  {
   "cell_type": "code",
   "execution_count": null,
   "metadata": {},
   "outputs": [],
   "source": []
  }
 ],
 "metadata": {
  "kernelspec": {
   "display_name": "Python (keras)",
   "language": "python",
   "name": "keras"
  },
  "language_info": {
   "codemirror_mode": {
    "name": "ipython",
    "version": 3
   },
   "file_extension": ".py",
   "mimetype": "text/x-python",
   "name": "python",
   "nbconvert_exporter": "python",
   "pygments_lexer": "ipython3",
   "version": "3.6.8"
  }
 },
 "nbformat": 4,
 "nbformat_minor": 2
}
